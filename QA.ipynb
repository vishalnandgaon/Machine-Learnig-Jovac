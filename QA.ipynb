{
 "cells": [
  {
   "cell_type": "markdown",
   "id": "435bdca5",
   "metadata": {},
   "source": [
    "Ques 1. What are the assumptions of linear regression?\n",
    "\n",
    "Ans. Linear regression assumes a straight-line relationship between the input variables and the output. It also expects that the residuals (errors) are evenly distributed, the input features are not dependent on each other, and there is no significant multicollinearity among the predictors."
   ]
  },
  {
   "cell_type": "markdown",
   "id": "7af77696",
   "metadata": {},
   "source": [
    "----------------------------------------------------------------------------------------------------------------"
   ]
  },
  {
   "cell_type": "markdown",
   "id": "d797dace",
   "metadata": {},
   "source": [
    "Ques 2. When should you use logistic regression instead of linear regression?\n",
    "\n",
    "Ans. Logistic regression is suitable when the outcome is categorical, such as determining if an email is spam or not (Yes/No). On the other hand, linear regression is used when the goal is to predict continuous numeric values rather than classifications."
   ]
  },
  {
   "cell_type": "markdown",
   "id": "7efeb82c",
   "metadata": {},
   "source": [
    "-----------------------------------------------------------------------------------------------------------------"
   ]
  },
  {
   "cell_type": "markdown",
   "id": "e42d4709",
   "metadata": {},
   "source": [
    "Ques 3. What is the interpretation of coefficients in logistic regression?\n",
    "\n",
    "Ans. Every coefficient in logistic regression shows how a particular feature influences the likelihood of an event. If the coefficient is positive, it raises the probability of the event happening; if it's negative, it lowers the probability."
   ]
  },
  {
   "cell_type": "markdown",
   "id": "724828c0",
   "metadata": {},
   "source": [
    "------------------------------------------------------------------------------------------------------------------"
   ]
  },
  {
   "cell_type": "markdown",
   "id": "037d7bb3",
   "metadata": {},
   "source": [
    "Ques 4. What is the difference between sigmoid and softmax functions?\n",
    "\n",
    "Ans. The sigmoid function is used for binary classification problems, providing the probability of the outcome being class 1. In contrast, the softmax function is applied in multiclass scenarios, assigning a probability to each class so that the total adds up to 1."
   ]
  },
  {
   "cell_type": "markdown",
   "id": "12a8ae2e",
   "metadata": {},
   "source": [
    "------------------------------------------------------------------------------------------------------------------"
   ]
  },
  {
   "cell_type": "markdown",
   "id": "d69723f9",
   "metadata": {},
   "source": [
    "Ques 5. Why is R-squared not suitable for evaluating logistic regression models?\n",
    "\n",
    "Ans. R-squared is designed for regression tasks that deal with predicting continuous values, not categories. Since logistic regression is used for classification problems, evaluation metrics like accuracy, F1 score, and AUC are more appropriate."
   ]
  },
  {
   "cell_type": "markdown",
   "id": "e023b8fb",
   "metadata": {},
   "source": [
    "---------------------------------------------------------------------------------------"
   ]
  }
 ],
 "metadata": {
  "language_info": {
   "name": "python"
  }
 },
 "nbformat": 4,
 "nbformat_minor": 5
}
